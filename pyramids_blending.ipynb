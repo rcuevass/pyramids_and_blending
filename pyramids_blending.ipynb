{
 "cells": [
  {
   "cell_type": "markdown",
   "metadata": {},
   "source": [
    "# Laplacian and Gaussian Pyramids"
   ]
  },
  {
   "cell_type": "markdown",
   "metadata": {},
   "source": [
    "This notebook shows how to generate pyramids of images for the purpose of image blending.  The process of generating the pyramids and blending is exeplored with two approaches:\n",
    "* Using OpenCV exclusively\n",
    "* Implrmenting the pyramid generation from scratch"
   ]
  },
  {
   "cell_type": "markdown",
   "metadata": {},
   "source": [
    "We import the necessary libraries "
   ]
  },
  {
   "cell_type": "code",
   "execution_count": 1,
   "metadata": {
    "collapsed": true
   },
   "outputs": [],
   "source": [
    "import cv2\n",
    "import numpy as np,sys\n",
    "import os\n",
    "import math as mt"
   ]
  },
  {
   "cell_type": "markdown",
   "metadata": {},
   "source": [
    "### Part I. Gaussian and Laplacian pyramids and blending using OpenCV"
   ]
  },
  {
   "cell_type": "markdown",
   "metadata": {
    "collapsed": true
   },
   "source": [
    "We write a function to generate the Gaussian pyramid of a picture based on the name of the file containing the image as well as the number of times the image will be reduced"
   ]
  },
  {
   "cell_type": "code",
   "execution_count": 2,
   "metadata": {
    "collapsed": true
   },
   "outputs": [],
   "source": [
    "def get_GaussPyrimid(name,times):\n",
    "    \"\"\"\n",
    "    Function that reduces a given image certain number of times\n",
    "    name: name of file containing the image\n",
    "    times: number of times the image will be reduced\n",
    "    returns: gaussian pyramid\n",
    "    \"\"\"\n",
    "    # Read image from file using OpenCV\n",
    "    img = cv2.imread(name)\n",
    "    # Create a list of images that initially contains only the original\n",
    "    # image\n",
    "    gaussPy = [img]\n",
    "    # We reduce the image as many times as the user has requested\n",
    "    for _ in range(times):\n",
    "        # Notice we updated img every time with the new reduced image...\n",
    "        img = cv2.pyrDown(img)\n",
    "        # ... and append to the list of images\n",
    "        gaussPy.append(img)\n",
    "    return gaussPy\n",
    "    "
   ]
  },
  {
   "cell_type": "markdown",
   "metadata": {},
   "source": [
    "Motivated by the previous function, we modify it to apply reduction to two images"
   ]
  },
  {
   "cell_type": "code",
   "execution_count": 3,
   "metadata": {
    "collapsed": false
   },
   "outputs": [],
   "source": [
    "def get_GaussPyrimids(name1,name2,size):\n",
    "    \"\"\"\n",
    "    Function that reduces two images certain number of times\n",
    "    name1, name2: names of files containing the images\n",
    "    times: number of times the image will be reduced\n",
    "    returns: gaussian pyramids of images with names name1 and name2\n",
    "    \"\"\"\n",
    "    # Read images from corresponding files\n",
    "    img1 = cv2.imread(name1); img2 = cv2.imread(name2)\n",
    "    # Initialize two lists with corresponding images\n",
    "    gaussPy1 = [img1]; gaussPy2 = [img2]\n",
    "    # We reduce the image as many times as the user has requested ... \n",
    "    for _ in range(size):\n",
    "        # ... and append to the lists, respectively\n",
    "        img1 = cv2.pyrDown(img1); gaussPy1.append(img1)\n",
    "        img2 = cv2.pyrDown(img2); gaussPy2.append(img2)\n",
    "    return gaussPy1,gaussPy2"
   ]
  },
  {
   "cell_type": "markdown",
   "metadata": {
    "collapsed": true
   },
   "source": [
    "We now create the function that will generate the Laplacian pyramids of two given images"
   ]
  },
  {
   "cell_type": "code",
   "execution_count": 4,
   "metadata": {
    "collapsed": true
   },
   "outputs": [],
   "source": [
    "def get_LaplacePyramid(name1,name2,size):\n",
    "    \"\"\"\n",
    "    Function that creates Laplacian pyramids of two images\n",
    "    name1, name2: names of files containing the images\n",
    "    size: number of levels in the lapalacian pyramid\n",
    "    returns: laplacian pyramids of images with names name1 and name2\n",
    "    \"\"\"\n",
    "    # We first get the gaussian pyramids of each image. Notice \n",
    "    # the function written before is invoked here\n",
    "    gaussPy1,gaussPy2 = get_GaussPyrimids(name1,name2,size)\n",
    "    # We create a list of Laplacian pyramids; we initialize each list \n",
    "    # with the deeper level (smallest image) of each Gaussian pyramid\n",
    "    Lapl1 = [gaussPy1[size]]; Lapl2 = [gaussPy2[size]]\n",
    "    # We loop over each element of the Gaussian pyramid. Notice the \n",
    "    # looping begins with the smallest image in the Gaussian pyramid \n",
    "    # (deepest level)\n",
    "    # For each element of the Gaussian pyramid...\n",
    "    for k in range(size,0,-1):\n",
    "        # Increase size of images in turn...\n",
    "        G1 = cv2.pyrUp(gaussPy1[k]); G2 = cv2.pyrUp(gaussPy2[k])\n",
    "        #print G1.shape, G2.shape\n",
    "        # ... take respective differences with images in turn ...\n",
    "        L1 = cv2.subtract(gaussPy1[k-1],G1); L2 = cv2.subtract(gaussPy2[k-1],G2)\n",
    "        # ... and append to the list of Laplacian pyramids\n",
    "        #print k , L1.shape, L2.shape\n",
    "        Lapl1.append(L1); Lapl2.append(L2)\n",
    "    return Lapl1,Lapl2"
   ]
  },
  {
   "cell_type": "markdown",
   "metadata": {},
   "source": [
    "We are now ready to genearate the blending of images"
   ]
  },
  {
   "cell_type": "code",
   "execution_count": 5,
   "metadata": {
    "collapsed": true
   },
   "outputs": [],
   "source": [
    "def blendImages(name1,name2,name_blend,size):\n",
    "    \"\"\"\n",
    "    This function genearated the blending of two images.\n",
    "    The blending takes place the middle part of each image\n",
    "    name1, name2: files' names containing images\n",
    "    name_blend: name of file containing the blended image\n",
    "    size: size of pyramids (number of levels in pyramids) generated\n",
    "          to do the blending\n",
    "    returns: None but writes the resulting blended image to file\n",
    "    \"\"\"\n",
    "    # Get Laplacian pyramids\n",
    "    lpA,lpB = get_LaplacePyramid(name1,name2,size)\n",
    "    # We intialize an empty list of images\n",
    "    list_img = []\n",
    "    # For each tuple in the cartesian product of Laplacian pyramids...\n",
    "    for la,lb in zip(lpA,lpB):\n",
    "         #row,col,dpt = la.shape\n",
    "        # We get dimension of element of Laplacian pyramid in turn ...\n",
    "        row,col = la.shape[:2]\n",
    "        # ... grab the left and right halves of corresponding elements...\n",
    "        left_img = la[:,0:col/2]; right_img = lb[:,col/2:]\n",
    "        # ... stack them horizontally to do sewing ...\n",
    "        ls = np.hstack((left_img,right_img))\n",
    "        # ... append the recently sewed image\n",
    "        list_img.append(ls)\n",
    "    # We get the first element of sewed images... \n",
    "    ls_ = list_img[0]\n",
    "    # ... and for the remaining elements in chaing of sewed images...\n",
    "    for item in list_img[1:]:\n",
    "        # ... increase the size ...\n",
    "        ls_ = cv2.pyrUp(ls_)\n",
    "        # ... and add it to the element in turn..\n",
    "        ls_ = cv2.add(ls_,item)\n",
    "    \n",
    "    # Write image to file\n",
    "    cv2.imwrite(name_blend,ls_)"
   ]
  },
  {
   "cell_type": "markdown",
   "metadata": {},
   "source": [
    "We finally write a function that generates a sequence of blended images"
   ]
  },
  {
   "cell_type": "code",
   "execution_count": 6,
   "metadata": {
    "collapsed": true
   },
   "outputs": [],
   "source": [
    "def makeSequenceBlends(name1,name2,max_size):\n",
    "    \"\"\"\n",
    "    Function that generates a sequence of blended images\n",
    "    name1, name2: names of files containing the images to be blended\n",
    "    max_size: maximum size of pyramids genereted for blending\n",
    "    returns: None but writes sequence of images to files \n",
    "    \"\"\"\n",
    "    # For all levels of blending ...\n",
    "    for size in range(max_size):\n",
    "        # Generate name of file containing blended image in turn\n",
    "        output_name = 'blend_0'+ str(size) +'.jpg'\n",
    "        # Show name of file on screen...\n",
    "        print output_name\n",
    "        # ... and perform the blending itself\n",
    "        blendImages(name1,name2,output_name,size)"
   ]
  },
  {
   "cell_type": "code",
   "execution_count": 7,
   "metadata": {
    "collapsed": false
   },
   "outputs": [
    {
     "name": "stdout",
     "output_type": "stream",
     "text": [
      "blend_00.jpg\n",
      "blend_01.jpg\n",
      "blend_02.jpg\n",
      "blend_03.jpg\n",
      "blend_04.jpg\n",
      "blend_05.jpg\n",
      "blend_06.jpg\n",
      "blend_07.jpg\n"
     ]
    }
   ],
   "source": [
    "makeSequenceBlends('apple.jpg','orange.jpg',8)"
   ]
  },
  {
   "cell_type": "markdown",
   "metadata": {
    "collapsed": true
   },
   "source": [
    "### Part II. Gaussian and Laplacian pyramids and blending from scratch"
   ]
  },
  {
   "cell_type": "markdown",
   "metadata": {},
   "source": [
    "We now proceed to repeat the process followed above, this time by implementing the function without using OpenCV"
   ]
  },
  {
   "cell_type": "markdown",
   "metadata": {},
   "source": [
    "#### A. Gaussian pyramids. The reduce function"
   ]
  },
  {
   "cell_type": "markdown",
   "metadata": {},
   "source": [
    "We first, for testing purposes, write the kernel function and test it with a simple example"
   ]
  },
  {
   "cell_type": "code",
   "execution_count": 8,
   "metadata": {
    "collapsed": false
   },
   "outputs": [
    {
     "name": "stdout",
     "output_type": "stream",
     "text": [
      "[ 0.05  0.25  0.4   0.25  0.05]\n"
     ]
    }
   ],
   "source": [
    "a_ = 0.4\n",
    "wHat = np.array([0.25 - (a_/2),0.25,a_,0.25,0.25-(a_/2)])\n",
    "print wHat"
   ]
  },
  {
   "cell_type": "code",
   "execution_count": 9,
   "metadata": {
    "collapsed": true
   },
   "outputs": [],
   "source": [
    "def convPyrA(xTest,wHat):\n",
    "    \"\"\"\n",
    "    Function that performs convolution of a vector with a separable matrix\n",
    "    xTest: input vector to be convoluted\n",
    "    wHat: kernel used for convolution\n",
    "    returns: reduced vector resulting from convolution\n",
    "    \"\"\"\n",
    "    \n",
    "    # We find the length of resulting convoluted vector according to the\n",
    "    # lenght of input vector\n",
    "    if len(xTest)%2 == 0:\n",
    "        len_ = len(xTest)//2\n",
    "    else:\n",
    "        len_ = (len(xTest)//2) + 1\n",
    "    \n",
    "    # Set list of zeros with dimension of the resulting vector\n",
    "    xReduced = [0]*len_\n",
    "    \n",
    "    # We first deal with all the entries in the resulting vector that \n",
    "    # are NOT the edges\n",
    "    for i in range(1,len_-1):\n",
    "        # Subset the input vector according the index of the convoluted\n",
    "        # vector to be computed and store it in aux_\n",
    "        # Keep in mind that:\n",
    "        # a. The ith index of the resulting vector corresponds\n",
    "        #    to the index 2i of the original vector\n",
    "        # b. The ith position of resulting vector is the center and\n",
    "        #    we need to collect two elements before and after the center\n",
    "        #    This is [i-2,i-1,i,i+1,i+2]\n",
    "        # c. In order to grab the last element we need to add 1 to the last\n",
    "        #    index. This is why in the following line we have 3 = 2 + 1\n",
    "        aux_ = np.array(xTest[2*i - 2 : 2*i + 3])\n",
    "        # Peform the inner product of kernel with the recently obtained\n",
    "        # aux_ vector to find the convolution\n",
    "        xReduced[i] = np.dot(aux_,wHat)\n",
    "    # We now need to take care of the edges\n",
    "    # For the first cell (index zero in Python)\n",
    "    # As before, we need to add 1 at the last index to ensure we are \n",
    "    # getting the last element of array: 3 = 2 + 1\n",
    "    aux_ = np.array(xTest[:3])\n",
    "    # For the edges the kernel has to be reduced in order to have overlap\n",
    "    # with the vector; we collect the \"right-hand side\" of kernel\n",
    "    # and store it auxiliary variable\n",
    "    wAux = np.array(wHat[2:])\n",
    "    # Perform inner product for convultion and correct result \n",
    "    # to ensure our reduced kernel was normalized\n",
    "    xReduced[0] = np.dot(wAux,aux_)/sum(wAux)\n",
    "    # We proceed in a similar fashion for last index\n",
    "    aux_ = np.array(xTest[len(xTest)-3:])\n",
    "    # This time the kernel is same as before but in opposite order, [::-1]\n",
    "    wAux = wAux[::-1]\n",
    "    # As before, we compute inner product for convolution and normalize\n",
    "    # kernel\n",
    "    xReduced[len_-1] = np.dot(wAux,aux_)/sum(wAux)\n",
    "    \n",
    "    return np.array(xReduced)\n",
    "    "
   ]
  },
  {
   "cell_type": "markdown",
   "metadata": {},
   "source": [
    "Let's test the recently created function with a simple vector"
   ]
  },
  {
   "cell_type": "code",
   "execution_count": 10,
   "metadata": {
    "collapsed": false
   },
   "outputs": [
    {
     "name": "stdout",
     "output_type": "stream",
     "text": [
      "[6 8 1 5 1 9 5 7 9]\n",
      "[ 6.35714286  4.          4.2         6.5         8.        ]\n"
     ]
    }
   ],
   "source": [
    "xTest = np.array([6,8,1,5,1,9,5,7,9])\n",
    "print xTest\n",
    "print convPyrA(xTest,wHat)"
   ]
  },
  {
   "cell_type": "markdown",
   "metadata": {},
   "source": [
    "Motivated by the previous function we now extend the idea to apply it to a matrix. Here is where the separability of the kernel helps; we will convolute rows first and then columns"
   ]
  },
  {
   "cell_type": "code",
   "execution_count": 11,
   "metadata": {
    "collapsed": true
   },
   "outputs": [],
   "source": [
    "def convPyrMatrix(A,wHat):\n",
    "    \"\"\"\n",
    "    This function extends the capabilities of convPyrA(xTest,wHat) to\n",
    "    make it useful for matrices \n",
    "    A: image matrix to be reduced\n",
    "    wHat: kernel to perform the convolution\n",
    "    returns: matrix representing the reduced image\n",
    "    NOTE. This function assumes the matrix A is two-dimensional\n",
    "    \"\"\"\n",
    "    # We get number of rows and columns of given matrix A ...\n",
    "    rowsA,colsA = A.shape[:2]\n",
    "    # ... and set a matrix of zeros with the same shape\n",
    "    Afinal = np.zeros((rowsA,colsA))\n",
    "\n",
    "    # WE FIRST CONVOLUTE ROWS:\n",
    "    for k in range(rowsA):\n",
    "        # Get the row in turn and store temporarily ...\n",
    "        vec_ =  np.array(A[k,:])\n",
    "        # ... to convolute with kernel. Store result in temp. variable\n",
    "        aux_ = convPyrA(vec_,wHat)\n",
    "        # Determine length of resulting convolution and store \n",
    "        # result in corresponding section of output matrix\n",
    "        rowsAux =  aux_.shape[0]\n",
    "        Afinal[k,:rowsAux] = aux_\n",
    "        \n",
    "    #lenA = Afinal.shape[1]\n",
    "    # WE NOW CONVOLUTE COLUMNS:\n",
    "    for k in range(rowsAux):\n",
    "        # We proceed in a similar fashion as before, this time \n",
    "        # using columns of the resulting matrix Afinal\n",
    "        vec_ = np.array(Afinal[:,k])\n",
    "        aux_ = convPyrA(vec_,wHat)\n",
    "        colsAux =  aux_.shape[0]\n",
    "        Afinal[:colsAux,k] = aux_\n",
    "            \n",
    "    return Afinal[:rowsAux,:colsAux]"
   ]
  },
  {
   "cell_type": "markdown",
   "metadata": {},
   "source": [
    "The previous function, as mentioned in the documentation, is designed only for two-dimensional \n",
    "matrices (no color index is considered). We build upon it to extend it to its three-dimensional version where color is included"
   ]
  },
  {
   "cell_type": "code",
   "execution_count": 12,
   "metadata": {
    "collapsed": true
   },
   "outputs": [],
   "source": [
    "def GaussPyr3D(A,a_):\n",
    "    \"\"\"\n",
    "    This function uses the previosuly implemented function, convPyrMatrix(A,wHat),\n",
    "    to apply it to a three-dimensional matrix as the ones provided by OpenCV.\n",
    "    Remember that the third index in matrix A is related with BGR of the pixel (x,y)\n",
    "    A: three-dimensional matrix representation of an image\n",
    "    a_: Parameter that uniquely defines the kernel\n",
    "    returns: three-dimensional matrix representing reduced image\n",
    "    \"\"\"\n",
    "    # The kernel is defined\n",
    "    wHat = np.array([0.25 - (a_/2),0.25,a_,0.25,0.25-(a_/2)])\n",
    "    #aux = aApple[:,:,0]\n",
    "    \n",
    "    # Apply the \"two-dimensional\" function to the \"B\" color, index 0\n",
    "    aux = convPyrMatrix(A[:,:,0],wHat)\n",
    "    # Get shape of resulting matrix and set a three-dimensional\n",
    "    # matrix of zeros accordingly\n",
    "    rows,cols = aux.shape\n",
    "    Afin = np.zeros((rows,cols,3))\n",
    "    # Store result in the corresponding \"B\" color of reduced matrix\n",
    "    Afin[:,:,0] = aux\n",
    "    # Repeat the same process but this time for \"G\" and \"R\" color indices\n",
    "    for k in range(1,3):\n",
    "        aux = convPyrMatrix(A[:,:,k],wHat)\n",
    "        Afin[:,:,k] = aux\n",
    "    return Afin"
   ]
  },
  {
   "cell_type": "markdown",
   "metadata": {},
   "source": [
    "We now use the function GaussPyr3D(A,a_) to make the reduction of a given image"
   ]
  },
  {
   "cell_type": "code",
   "execution_count": 13,
   "metadata": {
    "collapsed": true
   },
   "outputs": [],
   "source": [
    "def reduceImage(name_input,name_output):\n",
    "    \"\"\"\n",
    "    Function that takes an image and reduces it by colvolution\n",
    "    name_input: name if image to be reduced\n",
    "    name_output: name of resulting image\n",
    "    returns: None, but saves to file the resulting image\n",
    "    \"\"\"\n",
    "    # Set \"customary\" value of parameter for kernel\n",
    "    a_ = 0.4\n",
    "    # Load matrix corresponding to original image\n",
    "    Ainput = cv2.imread(name_input)\n",
    "    # Apply the reduce function to matrix...\n",
    "    Aoutput = GaussPyr3D(Ainput,a_)\n",
    "    # ... and save it to file with chose name\n",
    "    cv2.imwrite(name_output,Aoutput)"
   ]
  },
  {
   "cell_type": "markdown",
   "metadata": {},
   "source": [
    "Finally, we generate a Gaussian pyramid of given size"
   ]
  },
  {
   "cell_type": "code",
   "execution_count": 14,
   "metadata": {
    "collapsed": true
   },
   "outputs": [],
   "source": [
    "def reduceImageSequence(name_input,size):\n",
    "    \"\"\"\n",
    "    This function generates a sequence of reduced images\n",
    "    name_input: name of original image\n",
    "    size: size of Gaussian pyramid; number of times the image will be reduced\n",
    "    returns: none, but writes each image of sequence to file\n",
    "    \"\"\"\n",
    "    # Set value of parameter for kernel\n",
    "    a_ = 0.4\n",
    "    # Load matrix corresponding to image\n",
    "    Aimg = cv2.imread(name_input)\n",
    "    # For every level in pyramid...\n",
    "    for k in range(size):\n",
    "        # Set the name of file...\n",
    "        name_output = 'reduced_0' + str(k) + '.jpg' \n",
    "        # and write to file\n",
    "        cv2.imwrite(name_output,Aimg)\n",
    "        print \"Image \" , name_output , \"with size \", Aimg.shape[:2] ,\"has been created\"\n",
    "        # reduce matrix\n",
    "        Aimg = GaussPyr3D(Aimg,a_)"
   ]
  },
  {
   "cell_type": "code",
   "execution_count": 15,
   "metadata": {
    "collapsed": false
   },
   "outputs": [
    {
     "name": "stdout",
     "output_type": "stream",
     "text": [
      "Image  reduced_00.jpg with size  (512, 512) has been created\n",
      "Image  reduced_01.jpg with size  (256, 256) has been created\n",
      "Image  reduced_02.jpg with size  (128, 128) has been created\n",
      "Image  reduced_03.jpg with size  (64, 64) has been created\n",
      "Image  reduced_04.jpg with size  (32, 32) has been created\n"
     ]
    }
   ],
   "source": [
    "reduceImageSequence('apple.jpg',5)"
   ]
  },
  {
   "cell_type": "code",
   "execution_count": null,
   "metadata": {
    "collapsed": true
   },
   "outputs": [],
   "source": []
  }
 ],
 "metadata": {
  "kernelspec": {
   "display_name": "Python 2",
   "language": "python",
   "name": "python2"
  },
  "language_info": {
   "codemirror_mode": {
    "name": "ipython",
    "version": 2
   },
   "file_extension": ".py",
   "mimetype": "text/x-python",
   "name": "python",
   "nbconvert_exporter": "python",
   "pygments_lexer": "ipython2",
   "version": "2.7.9"
  }
 },
 "nbformat": 4,
 "nbformat_minor": 0
}
